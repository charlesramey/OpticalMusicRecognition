{
 "cells": [
  {
   "cell_type": "code",
   "execution_count": 97,
   "metadata": {},
   "outputs": [],
   "source": [
    "from sklearn import svm, metrics\n",
    "import numpy as np\n",
    "from matplotlib import pyplot as plt\n",
    "from PIL import Image\n",
    "import os"
   ]
  },
  {
   "cell_type": "code",
   "execution_count": 98,
   "metadata": {},
   "outputs": [],
   "source": [
    "def scale(image, max_size, method=Image.ANTIALIAS):\n",
    "    \"\"\"\n",
    "    From: https://gist.github.com/fabeat/6621507\n",
    "    resize 'image' to 'max_size' keeping the aspect ratio\n",
    "    and place it in center of white 'max_size' image\n",
    "    \"\"\"\n",
    "    image.thumbnail(max_size, method)\n",
    "    offset = (int((max_size[0] - image.size[0]) / 2), int((max_size[1] - image.size[1]) / 2))\n",
    "    back = Image.new(\"RGB\", max_size, \"white\")\n",
    "    back.paste(image, offset)\n",
    "    return back"
   ]
  },
  {
   "cell_type": "code",
   "execution_count": 101,
   "metadata": {},
   "outputs": [],
   "source": [
    "x_ = []\n",
    "y_ = []\n",
    "training_dir = \"C:\\\\Users\\\\charles\\\\Desktop\\\\OpenOMR\\\\neuralnetwork\\\\training\"\n",
    "for fig in os.listdir(training_dir):\n",
    "    for example in os.listdir(training_dir + '\\\\' + fig):\n",
    "        if 'png' in example:\n",
    "            example_path = training_dir + '\\\\' + fig + '\\\\' + example\n",
    "            im = Image.open(example_path).convert('LA')\n",
    "            resized = scale(im, (32,32)).convert('LA')\n",
    "            resized = np.array(resized)[:,:,0].reshape((32*32, ))\n",
    "            x_.append(resized)\n",
    "            y_.append(fig)"
   ]
  },
  {
   "cell_type": "code",
   "execution_count": 102,
   "metadata": {},
   "outputs": [
    {
     "data": {
      "text/plain": [
       "SVC(C=1.0, cache_size=200, class_weight=None, coef0=0.0,\n",
       "    decision_function_shape='ovr', degree=3, gamma=0.001, kernel='rbf',\n",
       "    max_iter=-1, probability=False, random_state=None, shrinking=True,\n",
       "    tol=0.001, verbose=False)"
      ]
     },
     "execution_count": 102,
     "metadata": {},
     "output_type": "execute_result"
    }
   ],
   "source": [
    "\n",
    "# Create a classifier: a support vector classifier\n",
    "classifier = svm.SVC(gamma=0.001)\n",
    "\n",
    "# We learn the digits on the first half of the digits\n",
    "classifier.fit(x_, y_)"
   ]
  },
  {
   "cell_type": "code",
   "execution_count": 103,
   "metadata": {},
   "outputs": [],
   "source": [
    "expected = y_\n",
    "predicted = classifier.predict(x_)"
   ]
  },
  {
   "cell_type": "code",
   "execution_count": 104,
   "metadata": {},
   "outputs": [
    {
     "name": "stdout",
     "output_type": "stream",
     "text": [
      "Classification report for classifier SVC(C=1.0, cache_size=200, class_weight=None, coef0=0.0,\n",
      "    decision_function_shape='ovr', degree=3, gamma=0.001, kernel='rbf',\n",
      "    max_iter=-1, probability=False, random_state=None, shrinking=True,\n",
      "    tol=0.001, verbose=False):\n",
      "                     precision    recall  f1-score   support\n",
      "\n",
      "               bass       1.00      1.00      1.00        18\n",
      "          crotchets       1.00      1.00      1.00        30\n",
      "demisemiquaver_line       1.00      1.00      1.00        30\n",
      "               flat       1.00      1.00      1.00        23\n",
      "              minim       1.00      1.00      1.00        30\n",
      "            natural       1.00      1.00      1.00        25\n",
      "          quaver_br       1.00      1.00      1.00        20\n",
      "        quaver_line       1.00      1.00      1.00        30\n",
      "          quaver_tr       1.00      1.00      1.00        10\n",
      "          semibreve       1.00      1.00      1.00         8\n",
      "      semiquaver_br       1.00      1.00      1.00         2\n",
      "    semiquaver_line       1.00      1.00      1.00        30\n",
      "      semiquaver_tr       1.00      1.00      1.00         4\n",
      "              sharp       1.00      1.00      1.00        30\n",
      "             treble       1.00      1.00      1.00        25\n",
      "\n",
      "           accuracy                           1.00       315\n",
      "          macro avg       1.00      1.00      1.00       315\n",
      "       weighted avg       1.00      1.00      1.00       315\n",
      "\n",
      "\n",
      "Confusion matrix:\n",
      "[[18  0  0  0  0  0  0  0  0  0  0  0  0  0  0]\n",
      " [ 0 30  0  0  0  0  0  0  0  0  0  0  0  0  0]\n",
      " [ 0  0 30  0  0  0  0  0  0  0  0  0  0  0  0]\n",
      " [ 0  0  0 23  0  0  0  0  0  0  0  0  0  0  0]\n",
      " [ 0  0  0  0 30  0  0  0  0  0  0  0  0  0  0]\n",
      " [ 0  0  0  0  0 25  0  0  0  0  0  0  0  0  0]\n",
      " [ 0  0  0  0  0  0 20  0  0  0  0  0  0  0  0]\n",
      " [ 0  0  0  0  0  0  0 30  0  0  0  0  0  0  0]\n",
      " [ 0  0  0  0  0  0  0  0 10  0  0  0  0  0  0]\n",
      " [ 0  0  0  0  0  0  0  0  0  8  0  0  0  0  0]\n",
      " [ 0  0  0  0  0  0  0  0  0  0  2  0  0  0  0]\n",
      " [ 0  0  0  0  0  0  0  0  0  0  0 30  0  0  0]\n",
      " [ 0  0  0  0  0  0  0  0  0  0  0  0  4  0  0]\n",
      " [ 0  0  0  0  0  0  0  0  0  0  0  0  0 30  0]\n",
      " [ 0  0  0  0  0  0  0  0  0  0  0  0  0  0 25]]\n"
     ]
    }
   ],
   "source": [
    "print(\"Classification report for classifier %s:\\n%s\\n\"\n",
    "      % (classifier, metrics.classification_report(expected, predicted)))\n",
    "print(\"Confusion matrix:\\n%s\" % metrics.confusion_matrix(expected, predicted))"
   ]
  },
  {
   "cell_type": "code",
   "execution_count": null,
   "metadata": {},
   "outputs": [],
   "source": []
  }
 ],
 "metadata": {
  "kernelspec": {
   "display_name": "Python 3",
   "language": "python",
   "name": "python3"
  },
  "language_info": {
   "codemirror_mode": {
    "name": "ipython",
    "version": 3
   },
   "file_extension": ".py",
   "mimetype": "text/x-python",
   "name": "python",
   "nbconvert_exporter": "python",
   "pygments_lexer": "ipython3",
   "version": "3.7.4"
  }
 },
 "nbformat": 4,
 "nbformat_minor": 2
}
